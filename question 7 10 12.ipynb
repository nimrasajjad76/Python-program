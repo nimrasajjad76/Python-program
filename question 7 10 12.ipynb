{
 "cells": [
  {
   "cell_type": "code",
   "execution_count": 1,
   "metadata": {},
   "outputs": [
    {
     "name": "stdout",
     "output_type": "stream",
     "text": [
      "Input English sunject mark: 75\n",
      "Input maths subject mark: 95\n",
      "Input urdu subject mark: 80\n",
      "Input Science Subject mark: 90\n",
      "Input Social Studies subject mark: 85\n",
      "Your percentage is 85.0\n",
      "Congratulations! Your Grade is A+\n"
     ]
    }
   ],
   "source": [
    "#7. write a python program which takes 5 input from user for different subject's marks, total it and generate mark sheet using grades.\n",
    "\n",
    "total_mark = 500\n",
    "\n",
    "sub1 = int(input(\"Input English sunject mark: \"))\n",
    "sub2 = int(input(\"Input maths subject mark: \"))\n",
    "sub3 = int(input(\"Input urdu subject mark: \"))\n",
    "sub4 = int(input(\"Input Science Subject mark: \"))\n",
    "sub5 = int(input(\"Input Social Studies subject mark: \"))\n",
    "sum = sub1 + sub2 +sub3 + sub4 + sub5\n",
    "percentage = sum/total_mark * 100\n",
    "print(\"Your percentage is {0}\" .format(percentage))\n",
    "\n",
    "if percentage>=90 and percentage<=100:\n",
    "    print(\"Congratulations! Your Grade is A1\")\n",
    "elif percentage>=80 and percentage<89:\n",
    "    print(\"Congratulations! Your Grade is A+\")\n",
    "elif percentage>=70 and percentage<79:\n",
    "    print(\"Congratulations! Your Grade is A\")\n",
    "elif percentage>=60 and percentage<69:\n",
    "    print(\"Congratulations! Your Grade is B.\")\n",
    "elif percentage>=50 and percentage<59:\n",
    "    print(\"Your Grade is C.\")\n",
    "elif percentage>=40 and percentage<49:\n",
    "    print(\"Your Grade is D.\")\n",
    "else:\n",
    "    print(\"Sorry, you have not passed the exam, please retry you will gonna make it in the next try, Best wishes.\")\n",
    "\n",
    "    "
   ]
  },
  {
   "cell_type": "code",
   "execution_count": 5,
   "metadata": {},
   "outputs": [
    {
     "name": "stdout",
     "output_type": "stream",
     "text": [
      "Enter a number: 85\n",
      "85 is Odd\n"
     ]
    }
   ],
   "source": [
    "#Write a program which take input from user and identify that the given number is even or odd? \n",
    "    \n",
    "number = int(input(\"Enter a number: \"))\n",
    "if (number % 2) == 0:\n",
    "   print(\"{0} is Even\".format(number))\n",
    "else:\n",
    "   print(\"{0} is Odd\".format(number))"
   ]
  },
  {
   "cell_type": "code",
   "execution_count": 12,
   "metadata": {},
   "outputs": [
    {
     "name": "stdout",
     "output_type": "stream",
     "text": [
      "The lenght of list is : 3\n"
     ]
    }
   ],
   "source": [
    "#9. Write a program which print the length of the list?\n",
    "\n",
    "my_list=[\"Nimra\",\"Sajjad\",\"Pakistan\"]\n",
    "print(\"The lenght of list is :\", len(my_list))"
   ]
  },
  {
   "cell_type": "code",
   "execution_count": 47,
   "metadata": {},
   "outputs": [
    {
     "name": "stdout",
     "output_type": "stream",
     "text": [
      "Sum of List:  126\n"
     ]
    }
   ],
   "source": [
    "#10.Write a Python program to sum all the numeric items in a list?\n",
    "\n",
    "list2 = [21,4,2,5,7,9,23,4,51]\n",
    "# Calculate sum of list \n",
    "numsum=0\n",
    "for i in list2:\n",
    "    numsum+=i\n",
    "print('Sum of List: ',numsum)"
   ]
  },
  {
   "cell_type": "code",
   "execution_count": 29,
   "metadata": {},
   "outputs": [
    {
     "name": "stdout",
     "output_type": "stream",
     "text": [
      "Largest number in the list is: 80\n"
     ]
    }
   ],
   "source": [
    "#11.Write a Python program to get the largest number from a numeric list. \n",
    "\n",
    "lis = [1, 10, 60, 36, 80]\n",
    "lis.sort()\n",
    "\n",
    "print(\"Largest number in the list is:\", lis[-1])\n"
   ]
  },
  {
   "cell_type": "code",
   "execution_count": 31,
   "metadata": {},
   "outputs": [
    {
     "name": "stdout",
     "output_type": "stream",
     "text": [
      "1\n",
      "\n",
      "1\n",
      "\n",
      "2\n",
      "\n",
      "3\n",
      "\n"
     ]
    }
   ],
   "source": [
    "#12. Take a list, say for example this one: a = [1, 1, 2, 3, 5, 8, 13, 21, 34, 55, 89] Write a program that prints out all the elements of the list that are less than 5.\n",
    "\n",
    "list= [1, 1, 2, 3, 5, 8, 13, 21, 34, 55, 89]\n",
    "for element in list:\n",
    "    if(int(element) <5):\n",
    "        print(str(element)+\"\\n\")\n"
   ]
  }
 ],
 "metadata": {
  "kernelspec": {
   "display_name": "Python 3",
   "language": "python",
   "name": "python3"
  },
  "language_info": {
   "codemirror_mode": {
    "name": "ipython",
    "version": 3
   },
   "file_extension": ".py",
   "mimetype": "text/x-python",
   "name": "python",
   "nbconvert_exporter": "python",
   "pygments_lexer": "ipython3",
   "version": "3.7.6"
  }
 },
 "nbformat": 4,
 "nbformat_minor": 4
}

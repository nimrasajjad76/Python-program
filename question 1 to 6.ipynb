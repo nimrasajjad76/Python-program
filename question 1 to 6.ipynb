{
 "cells": [
  {
   "cell_type": "code",
   "execution_count": 5,
   "metadata": {},
   "outputs": [
    {
     "name": "stdout",
     "output_type": "stream",
     "text": [
      "Twinkle, twinkle, litle star, \n",
      "\tHow I wonder what you are! \n",
      "\t\tUp above the world so high, \n",
      "\t\tLike a diamond in the sky. \n",
      "Twinkle , twinkle, Litle star, \n",
      "\tHow I wonder what you are\n"
     ]
    }
   ],
   "source": [
    "#1. Write a python to print the following string in specific format:\n",
    "    #Twinkle, twinkle, litle star,\n",
    "        #How I wonder what you are!\n",
    "            #Up above the world so high,\n",
    "            #Like a diamond in the sky.\n",
    "    #Twinkle, Twinkle, Litle star,\n",
    "       #How I wonder what you are\n",
    "\n",
    "print(\"Twinkle, twinkle, litle star, \\n\\tHow I wonder what you are! \\n\\t\\tUp above the world so high, \\n\\t\\tLike a diamond in the sky. \\nTwinkle , twinkle, Litle star, \\n\\tHow I wonder what you are\");\n",
    "\n",
    "        "
   ]
  },
  {
   "cell_type": "code",
   "execution_count": 9,
   "metadata": {},
   "outputs": [
    {
     "name": "stdout",
     "output_type": "stream",
     "text": [
      "3.7.6 (default, Jan  8 2020, 20:23:39) [MSC v.1916 64 bit (AMD64)]\n"
     ]
    }
   ],
   "source": [
    "#2. Write a python program to get the puthon version you are using.\n",
    "\n",
    "import sys\n",
    "print(sys.version)"
   ]
  },
  {
   "cell_type": "code",
   "execution_count": 20,
   "metadata": {},
   "outputs": [
    {
     "name": "stdout",
     "output_type": "stream",
     "text": [
      "Current date and time are as follows : \n",
      "Date = 24-10-2021 \n",
      "Time= 14:01:23\n"
     ]
    }
   ],
   "source": [
    "#3. write a python program to display the current date or time.\n",
    "\n",
    "import datetime\n",
    "display = datetime.datetime.now()\n",
    "print (\"Current date and time are as follows : \")\n",
    "print (display.strftime(\"Date = %d-%m-%Y \\nTime= %H:%M:%S\"))\n"
   ]
  },
  {
   "cell_type": "code",
   "execution_count": 21,
   "metadata": {},
   "outputs": [
    {
     "name": "stdout",
     "output_type": "stream",
     "text": [
      "Kindly Input the radius of the circle:2.3\n",
      "The Arear of the circle is:16.619025137490002\n"
     ]
    }
   ],
   "source": [
    "#4. Write a program which accept the radius of the circle from the user and compute the area.\n",
    "\n",
    "from math import pi\n",
    "radius = float(input(\"Kindly Input the radius of the circle:\"))\n",
    "print(\"The Arear of the circle is:\" + str(pi * radius **2))\n"
   ]
  },
  {
   "cell_type": "code",
   "execution_count": 36,
   "metadata": {},
   "outputs": [
    {
     "name": "stdout",
     "output_type": "stream",
     "text": [
      "Input your First Name : Nimra\n",
      "Input your Last Name : Sajjad\n",
      "sajjad nimra\n"
     ]
    }
   ],
   "source": [
    "#5. Write a Python program which accepts the user's first and last name and print them in reverse order with a space between them. \n",
    "\n",
    "\n",
    "firstname = input(\"Input your First Name : \")\n",
    "lastname = input(\"Input your Last Name : \")\n",
    "print (lname + \" \" + fname)\n"
   ]
  },
  {
   "cell_type": "code",
   "execution_count": 37,
   "metadata": {},
   "outputs": [
    {
     "name": "stdout",
     "output_type": "stream",
     "text": [
      "Kindly input the two numbers as  ask to get the sum of inputted numbers\n",
      "Input a number 1: 345678\n",
      "Input a number 2: 789653\n",
      "The sum of 345678.0 and 789653.0 is 1135331.0\n"
     ]
    }
   ],
   "source": [
    "#6. Write a program to take two input from the user and print them addition.\n",
    "\n",
    "print(\"Kindly input the two numbers as  ask to get the sum of inputted numbers\")\n",
    "number1 = float(input(\"Input a number 1: \"))\n",
    "number2 = float(input(\"Input a number 2: \"))\n",
    "sum = number1 + number2\n",
    "print('The sum of {0} and {1} is {2}'.format(number1, number2, sum))\n"
   ]
  },
  {
   "cell_type": "code",
   "execution_count": null,
   "metadata": {},
   "outputs": [],
   "source": []
  },
  {
   "cell_type": "code",
   "execution_count": null,
   "metadata": {},
   "outputs": [],
   "source": [
    "#7. write a python program which takes 5 input from user for different subject's marks, total it and generate mark sheet using grades.\n",
    "\n",
    "total_mark = 500\n",
    "\n",
    "sub1 = int(input(\"Input English sunject mark: \"))\n",
    "sub2 = int(input(\"Input maths subject mark: \"))\n",
    "sub3 = int(input(\"Input urdu subject mark: \"))\n",
    "sub4 = int(input(\"Input Science Subject mark: \"))\n",
    "sub5 = int(input(\"Input Social Studies subject mark: \"))\n",
    "sum = sub1 + sub2 +sub3 + sub4 + sub5\n",
    "percentage = sum/total_mark * 100\n",
    "print(\"Your percentage is {0}\" .format(percentage))\n",
    "\n",
    "if percentage>=90 and percentage<=100:\n",
    "    print(\"Congratulations! Your Grade is A1\")\n",
    "elif percentage>=80 and percentage<89:\n",
    "    print(\"Congratulations! Your Grade is A+\")\n",
    "elif percentage>=70 and percentage<79:\n",
    "    print(\"Congratulations! Your Grade is A\")\n",
    "elif percentage>=60 and percentage<69:\n",
    "    print(\"Congratulations! Your Grade is B.\")\n",
    "elif percentage>=50 and percentage<59:\n",
    "    print(\"Your Grade is C.\")\n",
    "elif percentage>=40 and percentage<49:\n",
    "    print(\"Your Grade is D.\")\n",
    "else:\n",
    "    print(\"Sorry, you have not passed the exam, please retry you will gonna make it in the next try, Best wishes.\")\n",
    "\n",
    "    "
   ]
  },
  {
   "cell_type": "code",
   "execution_count": null,
   "metadata": {},
   "outputs": [],
   "source": []
  },
  {
   "cell_type": "code",
   "execution_count": null,
   "metadata": {},
   "outputs": [],
   "source": []
  }
 ],
 "metadata": {
  "kernelspec": {
   "display_name": "Python 3",
   "language": "python",
   "name": "python3"
  },
  "language_info": {
   "codemirror_mode": {
    "name": "ipython",
    "version": 3
   },
   "file_extension": ".py",
   "mimetype": "text/x-python",
   "name": "python",
   "nbconvert_exporter": "python",
   "pygments_lexer": "ipython3",
   "version": "3.7.6"
  }
 },
 "nbformat": 4,
 "nbformat_minor": 4
}
